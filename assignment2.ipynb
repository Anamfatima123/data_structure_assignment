{
 "cells": [
  {
   "cell_type": "markdown",
   "id": "beab2325",
   "metadata": {},
   "source": [
    "Data Types and Structures Questions\n",
    "\n",
    "1.What are data structures, and why are they important?\n",
    "\n",
    "ans- Data structures are specialized formats for organizing, storing, and accessing collections of data. They provide efficient ways to manage information based on its characteristics and intended use.Choosing the right data structure significantly impacts the efficiency and performance of your program.Well-chosen data structures can simplify data manupulation,Optimize searching and sorting operations\n",
    "\n",
    "2.Explain the difference between mutable and immutable data types with examples?\n",
    "\n",
    "ans-mutable data type are those whose value can be changed after their creation for example list, dictonary and set in all these data structure we can add delete and modify data without changing variable objectives.\n",
    "immutable data type are those whose value can not be changed once they are created for example tuple and string\n",
    "\n",
    "3.What are the main differences between lists and tuples in Python?\n",
    "\n",
    "ans-The main difference between list and tuple is that list is mutable and tuple is immutable ,list can be modified after creation like it can add, remove and modify but in tuple you can not modify add or remove an element\n",
    "\n",
    "4.Describe how dictionaries store data?\n",
    "\n",
    "ans- dictionaries is unordered list of element it is stored on the basis of key and value each key word as unique identifier for retriving an associated value it can store hetrogenous data \n",
    "\n",
    "5.Why might you use a set instead of a list in Python?\n",
    "\n",
    "ans- set provide unique set of element present on data structure , set does not allow duplicate value wherelse list can store one element more then twice for some cases like installing username for an account because it will not let one username used twice\n",
    "\n",
    "6.What is a string in Python, and how is it different from a list?\n",
    "\n",
    "ans-A string is a sequence of characters enclosed in single (') or double (\") quotes. Strings are immutable, meaning once created, their content cannot be changed. Any operation that modifies a string results in the creation of a new string object. string and list are different because string is immutable and can not perform any function which may change its elements whereelse list is mutable and we can perform manupulation in string.\n",
    "\n",
    "7.How do tuples ensure data integrity in Python?\n",
    "\n",
    "ans- Once a tuple is created, its elements cannot be changed, added, or removed. This immutability safeguards against unintended modifications, ensuring that the data remains consistent throughout the program.Tuples in Python ensure data integrity through their immutability, preventing accidental modifications and supporting hashability for use as dictionary keys. However, caution is needed when tuples contain mutable objects, as their contents can still be altered, potentially compromising data integrity.\n",
    "\n",
    "8.What is a hash table, and how does it relate to dictionaries in Python?\n",
    "\n",
    "ans- A hash table is a data structure that maps keys to values using a hash function. The hash function computes an index into an array of buckets or slots, from which the desired value can be found. This allows for average-case constant time complexity for lookup, insertion, and deletion operations. However, hash collisions—where different keys produce the same hash code—must be handled, typically using techniques like open addressing or chaining .\n",
    "\n",
    "9.Can lists contain different data types in Python?\n",
    "\n",
    "ans- yes, list can store different data type.\n",
    "\n",
    "10.Explain why strings are immutable in Python?\n",
    "\n",
    "ans-strings are immutable because it can not be changed once they are created.\n",
    "\n",
    "11.What advantages do dictionaries offer over lists for certain tasks?\n",
    "\n",
    "ans-Dictionaries offer faster lookups and clearer key-based access than lists, making them better for structured, named data.\n",
    "\n",
    "\n",
    "12.Describe a scenario where using a tuple would be preferable over a list?\n",
    "\n",
    "ans- A tuple is preferable in birth dates because the birth date is a fixed set of values that shouldn't change, ensuring data integrity.\n",
    "\n",
    "13.How do sets handle duplicate values in Python?\n",
    "\n",
    "ans-sets automatically remove duplicate values in python sets only store unique value \n",
    "\n",
    "14.How does the “in” keyword work differently for lists and dictionaries?\n",
    "\n",
    "ans- In list the \"in\" keyword looks for the value in list and for dictionaries \"in\" keyword looks for the key.\n",
    "\n",
    "15.Can you modify the elements of a tuple? Explain why or why not?\n",
    "\n",
    "ans-No, you cannot modify the elements of a tuple because tuples are immutable in Python — once created, their contents cannot be changed.\n",
    "because tuples are designed to be fixed collections of items and this immutability makes them safe, hashable, and usable as dictionary keys or set elements. However, if a tuple contains mutable elements (like a list), those inner elements can be changed, but the tuple’s structure still can’t.\n",
    "\n",
    "\n",
    "16.What is a nested dictionary, and give an example of its use case?\n",
    "\n",
    "ans-A nested dictionary is a dictionary that contains another dictionary as a value.it is used in storing structured data, like student records, where each student ID maps to another dictionary with personal details.\n",
    "\n",
    "17.Describe the time complexity of accessing elements in a dictionary?\n",
    "\n",
    "ans- Accessing elements in a Python dictionary has an average-case time complexity of O(1) — constant time. Dictionaries use a hash table internally, so accessing a value by its key is very fast and doesn’t depend on the dictionary size.\n",
    "\n",
    "18.In what situations are lists preferred over dictionaries?\n",
    "\n",
    "ans-Lists are preferred over dictionaries when You need to store ordered data, Elements are accessed by position (index), The data doesn’t need named keys, You may have duplicates, You need to maintain insertion order and sequence.\n",
    "\n",
    "19.Why are dictionaries considered unordered, and how does that affect data retrieval?\n",
    "\n",
    "ans-Dictionaries are considered unordered because values are accessed by keys, not positions, and you can't use indexing like with lists.\n",
    "\n",
    "20.Explain the difference between a list and a dictionary in terms of data retrieval.\n",
    "\n",
    "ans- Lists retrieve data by index (position), while dictionaries retrieve data by key (name or identifier).This makes lists better for ordered data and dictionaries better for labeled or structured data.\n",
    "\n",
    "\n"
   ]
  },
  {
   "cell_type": "code",
   "execution_count": null,
   "id": "af0f02ef",
   "metadata": {},
   "outputs": [],
   "source": [
    "#practical question--"
   ]
  },
  {
   "cell_type": "code",
   "execution_count": 1,
   "id": "ce7c8269",
   "metadata": {},
   "outputs": [
    {
     "name": "stdout",
     "output_type": "stream",
     "text": [
      "hello my name is anam fatima\n"
     ]
    }
   ],
   "source": [
    "#1 Write a code to create a string with your name and print it?\n",
    "\n",
    "nme= \"hello my name is anam fatima\"\n",
    "\n",
    "print(nme)\n"
   ]
  },
  {
   "cell_type": "code",
   "execution_count": 2,
   "id": "a628f5a3",
   "metadata": {},
   "outputs": [
    {
     "data": {
      "text/plain": [
       "11"
      ]
     },
     "execution_count": 2,
     "metadata": {},
     "output_type": "execute_result"
    }
   ],
   "source": [
    "#2 Write a code to find the length of the string \"Hello World\"?\n",
    "\n",
    "len(\"Hello world\")\n"
   ]
  },
  {
   "cell_type": "code",
   "execution_count": 4,
   "id": "69d17a30",
   "metadata": {},
   "outputs": [
    {
     "data": {
      "text/plain": [
       "'pyt'"
      ]
     },
     "execution_count": 4,
     "metadata": {},
     "output_type": "execute_result"
    }
   ],
   "source": [
    "#3 Write a code to slice the first 3 characters from the string \"Python Programming\"?\n",
    "\n",
    "h=\"python programming\"\n",
    "\n",
    "h[:3]\n"
   ]
  },
  {
   "cell_type": "code",
   "execution_count": 5,
   "id": "cac6b1e7",
   "metadata": {},
   "outputs": [
    {
     "data": {
      "text/plain": [
       "'HELLO'"
      ]
     },
     "execution_count": 5,
     "metadata": {},
     "output_type": "execute_result"
    }
   ],
   "source": [
    "#4 Write a code to convert the string \"hello\" to uppercase?\n",
    "\n",
    "x= \"hello\"\n",
    "\n",
    "x.upper()\n"
   ]
  },
  {
   "cell_type": "code",
   "execution_count": 7,
   "id": "ff0c5228",
   "metadata": {},
   "outputs": [
    {
     "data": {
      "text/plain": [
       "'I like orange'"
      ]
     },
     "execution_count": 7,
     "metadata": {},
     "output_type": "execute_result"
    }
   ],
   "source": [
    "#5 Write a code to replace the word \"apple\" with \"orange\" in the string \"I like apple\"?\n",
    "\n",
    "text= \"I like apple\"\n",
    "\n",
    "new=text.replace(\"apple\", \"orange\")\n",
    "\n",
    "new\n"
   ]
  },
  {
   "cell_type": "code",
   "execution_count": 9,
   "id": "3117f8a1",
   "metadata": {},
   "outputs": [
    {
     "name": "stdout",
     "output_type": "stream",
     "text": [
      "[1, 2, 3, 4, 5]\n"
     ]
    }
   ],
   "source": [
    "#6 Write a code to create a list with numbers 1 to 5 and print it?\n",
    "\n",
    "lis= [1 , 2, 3, 4, 5]\n",
    "print(lis)\n"
   ]
  },
  {
   "cell_type": "code",
   "execution_count": 11,
   "id": "fc7d15b6",
   "metadata": {},
   "outputs": [
    {
     "data": {
      "text/plain": [
       "[1, 2, 3, 4, 10]"
      ]
     },
     "execution_count": 11,
     "metadata": {},
     "output_type": "execute_result"
    }
   ],
   "source": [
    "#7 Write a code to append the number 10 to the list [1, 2, 3, 4]?\n",
    "\n",
    "x=[1, 2, 3, 4]\n",
    "\n",
    "x.append(10)\n",
    "\n",
    "x"
   ]
  },
  {
   "cell_type": "code",
   "execution_count": null,
   "id": "5ecf4183",
   "metadata": {},
   "outputs": [
    {
     "data": {
      "text/plain": [
       "[1, 2, 4, 5]"
      ]
     },
     "execution_count": 12,
     "metadata": {},
     "output_type": "execute_result"
    }
   ],
   "source": [
    "#8 Write a code to remove the number 3 from the list [1, 2, 3, 4, 5]?\n",
    "\n",
    "y=[1, 2, 3, 4, 5]\n",
    "\n",
    "y.remove(3)\n",
    "\n",
    "y\n"
   ]
  },
  {
   "cell_type": "code",
   "execution_count": 14,
   "id": "c95dd456",
   "metadata": {},
   "outputs": [
    {
     "data": {
      "text/plain": [
       "'b'"
      ]
     },
     "execution_count": 14,
     "metadata": {},
     "output_type": "execute_result"
    }
   ],
   "source": [
    "#9 Write a code to access the second element in the list ['a', 'b', 'c', 'd']?\n",
    "\n",
    "z=['a', 'b', 'c', 'd']\n",
    "\n",
    "z[1]\n"
   ]
  },
  {
   "cell_type": "code",
   "execution_count": 15,
   "id": "a1807795",
   "metadata": {},
   "outputs": [
    {
     "data": {
      "text/plain": [
       "[50, 40, 30, 20, 10]"
      ]
     },
     "execution_count": 15,
     "metadata": {},
     "output_type": "execute_result"
    }
   ],
   "source": [
    "#10 Write a code to reverse the list [10, 20, 30, 40, 50].\n",
    "\n",
    "x=[10, 20, 30, 40, 50]\n",
    "\n",
    "x[::-1]"
   ]
  },
  {
   "cell_type": "code",
   "execution_count": null,
   "id": "444428cf",
   "metadata": {},
   "outputs": [
    {
     "name": "stdout",
     "output_type": "stream",
     "text": [
      "(100, 200, 300)\n"
     ]
    }
   ],
   "source": [
    "#11 Write a code to create a tuple with the elements 100, 200, 300 and print it.\n",
    "\n",
    "tup=(100 ,200 ,300 )\n",
    "\n",
    "print(tup)\n",
    "#print(type(tup))"
   ]
  },
  {
   "cell_type": "code",
   "execution_count": 18,
   "id": "939186f2",
   "metadata": {},
   "outputs": [
    {
     "data": {
      "text/plain": [
       "('green', 'blue', 'yellow')"
      ]
     },
     "execution_count": 18,
     "metadata": {},
     "output_type": "execute_result"
    }
   ],
   "source": [
    "#12 Write a code to access the second-to-last element of the tuple ('red', 'green', 'blue', 'yellow').\n",
    "\n",
    "t= ('red', 'green', 'blue', 'yellow')\n",
    "\n",
    "t[1:]\n"
   ]
  },
  {
   "cell_type": "code",
   "execution_count": 20,
   "id": "f4054b30",
   "metadata": {},
   "outputs": [
    {
     "name": "stdout",
     "output_type": "stream",
     "text": [
      "5\n"
     ]
    }
   ],
   "source": [
    "#13 Write a code to find the minimum number in the tuple (10, 20, 5, 15).\n",
    "\n",
    "mini=(10, 20, 5, 15)\n",
    "\n",
    "print(min(mini))\n"
   ]
  },
  {
   "cell_type": "code",
   "execution_count": 23,
   "id": "4ee954ef",
   "metadata": {},
   "outputs": [
    {
     "name": "stdout",
     "output_type": "stream",
     "text": [
      "1\n"
     ]
    }
   ],
   "source": [
    "#14 Write a code to find the index of the element \"cat\" in the tuple ('dog', 'cat', 'rabbit').\n",
    "\n",
    "ind= ('dog', 'cat', 'rabbit')\n",
    "\n",
    "ind_cat=ind.index('cat')\n",
    "\n",
    "print(ind_cat)\n",
    "\n"
   ]
  },
  {
   "cell_type": "code",
   "execution_count": 24,
   "id": "f243d10b",
   "metadata": {},
   "outputs": [
    {
     "name": "stdout",
     "output_type": "stream",
     "text": [
      "kiwi is not present in tuple\n"
     ]
    }
   ],
   "source": [
    "#15 Write a code to create a tuple containing three different fruits and check if \"kiwi\" is in it.\n",
    "\n",
    "fruit=('apple', 'banana','orange')\n",
    "\n",
    "if \"kiwi\" in fruit:\n",
    "    print(\"kiwi is present in tuple\")\n",
    "\n",
    "else:\n",
    "    print(\"kiwi is not present in tuple\")"
   ]
  },
  {
   "cell_type": "code",
   "execution_count": 25,
   "id": "9cd169bc",
   "metadata": {},
   "outputs": [
    {
     "name": "stdout",
     "output_type": "stream",
     "text": [
      "{'b', 'c', 'a'}\n"
     ]
    }
   ],
   "source": [
    "#16 Write a code to create a set with the elements 'a', 'b', 'c' and print it.\n",
    "\n",
    "s_e_t={'a','b','c'}\n",
    "\n",
    "print(s_e_t)"
   ]
  },
  {
   "cell_type": "code",
   "execution_count": 29,
   "id": "cb182d19",
   "metadata": {},
   "outputs": [
    {
     "name": "stdout",
     "output_type": "stream",
     "text": [
      "set()\n"
     ]
    }
   ],
   "source": [
    "#17 Write a code to clear all elements from the set {1, 2, 3, 4, 5}.\n",
    "\n",
    "s={1, 2, 3, 4, 5}\n",
    "\n",
    "s.clear()\n",
    "\n",
    "print(s)\n"
   ]
  },
  {
   "cell_type": "code",
   "execution_count": 30,
   "id": "0c2f0bc9",
   "metadata": {},
   "outputs": [
    {
     "name": "stdout",
     "output_type": "stream",
     "text": [
      "{1, 2, 3}\n"
     ]
    }
   ],
   "source": [
    "#18 Write a code to remove the element 4 from the set {1, 2, 3, 4}.\n",
    "\n",
    "r={1, 2, 3, 4}\n",
    "\n",
    "r.remove(4)\n",
    "\n",
    "print(r)\n",
    "\n",
    "\n"
   ]
  },
  {
   "cell_type": "code",
   "execution_count": 31,
   "id": "9a2e490c",
   "metadata": {},
   "outputs": [
    {
     "name": "stdout",
     "output_type": "stream",
     "text": [
      "{1, 2, 3, 4, 5}\n"
     ]
    }
   ],
   "source": [
    "#19 Write a code to find the union of two sets {1, 2, 3} and {3, 4, 5}.\n",
    "\n",
    "s1={1, 2, 3}\n",
    "s2={3, 4, 5}\n",
    "\n",
    "uni=s1| s2\n",
    "\n",
    "print(uni)"
   ]
  },
  {
   "cell_type": "code",
   "execution_count": 33,
   "id": "12035c3c",
   "metadata": {},
   "outputs": [
    {
     "name": "stdout",
     "output_type": "stream",
     "text": [
      "{2, 3}\n"
     ]
    }
   ],
   "source": [
    "#20 Write a code to find the intersection of two sets {1, 2, 3} and {2, 3, 4}.\n",
    "\n",
    "s1={1, 2, 3}\n",
    "s2={2, 3, 4}\n",
    "\n",
    "inter= s1& s2\n",
    "print(inter)"
   ]
  },
  {
   "cell_type": "code",
   "execution_count": 34,
   "id": "e4cd5ff5",
   "metadata": {},
   "outputs": [
    {
     "name": "stdout",
     "output_type": "stream",
     "text": [
      "{'Name': 'anam fatima', 'age': 22, 'City': 'bhopal'}\n"
     ]
    }
   ],
   "source": [
    "#21 Write a code to create a dictionary with the keys \"name\", \"age\", and \"city\", and print it.\n",
    "\n",
    "dic={\"Name\": \"anam fatima\",\"age\":22,\"City\": \"bhopal\"}\n",
    "\n",
    "print(dic)"
   ]
  },
  {
   "cell_type": "code",
   "execution_count": 35,
   "id": "aefae7cf",
   "metadata": {},
   "outputs": [
    {
     "name": "stdout",
     "output_type": "stream",
     "text": [
      "{'name': 'John', 'age': 25, 'country': 'USA'}\n"
     ]
    }
   ],
   "source": [
    "#22 Write a code to add a new key-value pair \"country\": \"USA\" to the dictionary {'name': 'John', 'age': 25}.\n",
    "\n",
    "dict1={'name': 'John', 'age': 25}\n",
    "\n",
    "dict1[\"country\"]= \"USA\"\n",
    "\n",
    "print(dict1)"
   ]
  },
  {
   "cell_type": "code",
   "execution_count": 36,
   "id": "4fd2c43a",
   "metadata": {},
   "outputs": [
    {
     "data": {
      "text/plain": [
       "'Alice'"
      ]
     },
     "execution_count": 36,
     "metadata": {},
     "output_type": "execute_result"
    }
   ],
   "source": [
    "#23 Write a code to access the value associated with the key \"name\" in the dictionary {'name': 'Alice', 'age': 30}.\n",
    "\n",
    "d={'name': 'Alice', 'age': 30}\n",
    "\n",
    "d['name']"
   ]
  },
  {
   "cell_type": "code",
   "execution_count": 38,
   "id": "dd75ac3d",
   "metadata": {},
   "outputs": [
    {
     "data": {
      "text/plain": [
       "22"
      ]
     },
     "execution_count": 38,
     "metadata": {},
     "output_type": "execute_result"
    }
   ],
   "source": [
    "#24 Write a code to remove the key \"age\" from the dictionary {'name': 'Bob', 'age': 22, 'city': 'New York'}.\n",
    "\n",
    "d2={'name': 'Bob', 'age': 22, 'city': 'New York'}\n",
    "\n",
    "d2.pop(\"age\")\n"
   ]
  },
  {
   "cell_type": "code",
   "execution_count": 39,
   "id": "9663f983",
   "metadata": {},
   "outputs": [
    {
     "data": {
      "text/plain": [
       "True"
      ]
     },
     "execution_count": 39,
     "metadata": {},
     "output_type": "execute_result"
    }
   ],
   "source": [
    "#25 Write a code to check if the key \"city\" exists in the dictionary {'name': 'Alice', 'city': 'Paris'}.\n",
    "\n",
    "d3= {'name': 'Alice', 'city': 'Paris'}\n",
    "\n",
    "'city' in d3"
   ]
  },
  {
   "cell_type": "code",
   "execution_count": 42,
   "id": "a89330fc",
   "metadata": {},
   "outputs": [
    {
     "name": "stdout",
     "output_type": "stream",
     "text": [
      "[1, 2, 3, 4, 5]\n",
      "(10, 20, 5, 15)\n",
      "{'name': 'Alice', 'city': 'Paris'}\n"
     ]
    }
   ],
   "source": [
    "#26 Write a code to create a list, a tuple, and a dictionary, and print them all.\n",
    "\n",
    "l= [1, 2, 3, 4, 5]\n",
    "t= (10, 20, 5, 15)\n",
    "d={'name': 'Alice', 'city': 'Paris'}\n",
    "\n",
    "print(l)\n",
    "print(t)\n",
    "print(d)"
   ]
  },
  {
   "cell_type": "code",
   "execution_count": 49,
   "id": "a828d785",
   "metadata": {},
   "outputs": [
    {
     "name": "stdout",
     "output_type": "stream",
     "text": [
      "[11, 34, 55, 67, 68, 89]\n"
     ]
    }
   ],
   "source": [
    "#27 Write a code to create a list of 5 random numbers between 1 and 100, sort it in ascending order, and print the result.(replaced)\n",
    "\n",
    "num= [11,34,67,55,89,68]\n",
    "\n",
    "num.sort()\n",
    "\n",
    "print(num)"
   ]
  },
  {
   "cell_type": "code",
   "execution_count": 43,
   "id": "116039fb",
   "metadata": {},
   "outputs": [
    {
     "data": {
      "text/plain": [
       "'cherry'"
      ]
     },
     "execution_count": 43,
     "metadata": {},
     "output_type": "execute_result"
    }
   ],
   "source": [
    "#28 Write a code to create a list with strings and print the element at the third index.\n",
    "\n",
    "list1=['apple','orange','grapes','cherry','banana','dates']\n",
    "\n",
    "list1[3]"
   ]
  },
  {
   "cell_type": "code",
   "execution_count": 47,
   "id": "27d06697",
   "metadata": {},
   "outputs": [
    {
     "name": "stdout",
     "output_type": "stream",
     "text": [
      "{'name': 'deepa', 'age': 17, 'standard': 11, 'city': 'janakpur'}\n"
     ]
    }
   ],
   "source": [
    "#29 Write a code to combine two dictionaries into one and print the result.\n",
    "\n",
    "d1={\"name\": \"deepa\",\"age\": 17}\n",
    "d2={\"standard\": 11, \"city\": \"janakpur\"}\n",
    "\n",
    "d1.update(d2)\n",
    "\n",
    "print(d1)\n"
   ]
  },
  {
   "cell_type": "code",
   "execution_count": 48,
   "id": "df0b2650",
   "metadata": {},
   "outputs": [
    {
     "name": "stdout",
     "output_type": "stream",
     "text": [
      "{'cherry', 'dates', 'grapes', 'apple', 'banana', 'orange'}\n"
     ]
    }
   ],
   "source": [
    "#30 Write a code to convert a list of strings into a set.\n",
    "\n",
    "list2=['apple','orange','grapes','cherry','banana','dates']\n",
    "\n",
    "print(set(list2))\n"
   ]
  },
  {
   "cell_type": "code",
   "execution_count": null,
   "id": "91c88cf0",
   "metadata": {},
   "outputs": [],
   "source": []
  }
 ],
 "metadata": {
  "kernelspec": {
   "display_name": "base",
   "language": "python",
   "name": "python3"
  },
  "language_info": {
   "codemirror_mode": {
    "name": "ipython",
    "version": 3
   },
   "file_extension": ".py",
   "mimetype": "text/x-python",
   "name": "python",
   "nbconvert_exporter": "python",
   "pygments_lexer": "ipython3",
   "version": "3.11.3"
  }
 },
 "nbformat": 4,
 "nbformat_minor": 5
}
